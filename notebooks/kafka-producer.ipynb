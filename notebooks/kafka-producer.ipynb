{
 "cells": [
  {
   "cell_type": "code",
   "execution_count": 1,
   "id": "5e39ee20-4569-40ad-b6df-014ede80fdc1",
   "metadata": {
    "tags": []
   },
   "outputs": [],
   "source": [
    "import time\n",
    "import random\n",
    "import os\n",
    "from dotenv import load_dotenv\n",
    "from pathlib import Path\n",
    "from faker import Faker\n",
    "from confluent_kafka import avro\n",
    "from confluent_kafka.avro import AvroProducer\n",
    "from confluent_kafka.schema_registry import SchemaRegistryClient"
   ]
  },
  {
   "cell_type": "code",
   "execution_count": 2,
   "id": "de8bd502-58cf-4329-ab73-ff48853c4a34",
   "metadata": {
    "tags": []
   },
   "outputs": [
    {
     "data": {
      "text/plain": [
       "True"
      ]
     },
     "execution_count": 2,
     "metadata": {},
     "output_type": "execute_result"
    }
   ],
   "source": [
    "# Load environment variables from .env file\n",
    "dotenv_path = Path('/resources/.env')\n",
    "load_dotenv(dotenv_path=dotenv_path)"
   ]
  },
  {
   "cell_type": "code",
   "execution_count": 3,
   "id": "8058cd9b-dc73-4fca-8ce9-4703139eb4ae",
   "metadata": {},
   "outputs": [],
   "source": [
    "# get environment variables\n",
    "project_name = os.getenv('COMPOSE_PROJECT_NAME')\n",
    "kafka_host = os.getenv('KAFKA_HOST')\n",
    "topic = os.getenv('KAFKA_TOPIC_NAME')\n",
    "num_replication = int(os.getenv('KAFKA_REPLICATION'))\n",
    "num_partitions = int(os.getenv('KAFKA_PARTITION'))\n",
    "schema_registry_host = os.getenv('SCHEMA_REG_HOST')"
   ]
  },
  {
   "cell_type": "code",
   "execution_count": 4,
   "id": "873c121a-6b9c-45b7-80d4-cbadbc21d45c",
   "metadata": {},
   "outputs": [],
   "source": [
    "# print(project_name)\n",
    "# print(kafka_host)\n",
    "# print(topic)\n",
    "# print(num_replication)\n",
    "# print(num_partitions)\n",
    "# print(schema_registry_host)"
   ]
  },
  {
   "cell_type": "code",
   "execution_count": 5,
   "id": "2515fd60-b429-4bfa-aafc-cc7800855bd0",
   "metadata": {},
   "outputs": [],
   "source": [
    "# Kafka Configuration\n",
    "fake = Faker()\n",
    "bootstrap_servers = f'{kafka_host}:9092'\n",
    "schema_registry_url = f'http://{schema_registry_host}:8081' \n",
    "schema_registry_client = SchemaRegistryClient({'url': schema_registry_url})"
   ]
  },
  {
   "cell_type": "code",
   "execution_count": 6,
   "id": "46876aca-dac5-4a3f-89fd-1b32d2bb837e",
   "metadata": {},
   "outputs": [
    {
     "name": "stderr",
     "output_type": "stream",
     "text": [
      "AvroProducer has been deprecated. Use AvroSerializer instead.\n"
     ]
    },
    {
     "name": "stdout",
     "output_type": "stream",
     "text": [
      "Sending event: {'employee_id': '3827fa07-1c58-4495-9827-192e16905e52', 'employee_name': 'Bethany Brown', 'employee_salary': 4045313.08, 'employee_age': 45}\n",
      "Sending event: {'employee_id': '0c83e81d-2479-485f-8b05-e294cfa1d349', 'employee_name': 'Jeremy Foster', 'employee_salary': 4996386.78, 'employee_age': 18}\n",
      "Sending event: {'employee_id': '74783818-dc60-4c33-bd64-92d32c5070c1', 'employee_name': 'Brittney Petersen', 'employee_salary': 6339470.59, 'employee_age': 44}\n",
      "Sending event: {'employee_id': '1fb72d94-a6f3-4200-a7ff-b5a07d8f3168', 'employee_name': 'Wendy Butler', 'employee_salary': 1016838.01, 'employee_age': 40}\n",
      "Sending event: {'employee_id': 'a6f16eb6-f08b-4c81-b112-9c9e97220aa0', 'employee_name': 'Christopher Richardson', 'employee_salary': 2288411.14, 'employee_age': 28}\n",
      "Sending event: {'employee_id': '91ac3f2b-a096-45c1-8e76-6c890b2f3698', 'employee_name': 'Gregory Crawford', 'employee_salary': 8288851.77, 'employee_age': 47}\n",
      "Sending event: {'employee_id': 'feec49ff-1559-4702-846d-a2856dbdaa2e', 'employee_name': 'Amy Jackson', 'employee_salary': 6724402.9, 'employee_age': 61}\n",
      "Sending event: {'employee_id': '411e8c81-7811-49c7-b9c5-040f074849be', 'employee_name': 'Jeffrey Stanley', 'employee_salary': 4517481.71, 'employee_age': 62}\n",
      "Sending event: {'employee_id': '6220f885-a928-4df3-9aad-aebc8ef4e1b0', 'employee_name': 'Ronald Harmon', 'employee_salary': 1455092.89, 'employee_age': 41}\n",
      "Sending event: {'employee_id': 'bfe2c5f3-ef13-49e5-b9a4-e24b2e60af17', 'employee_name': 'Luis Johnson', 'employee_salary': 2005818.84, 'employee_age': 19}\n",
      "Sending event: {'employee_id': '369b1907-b47a-48ff-9f9f-4429dbe0ac79', 'employee_name': 'Charles Mcbride', 'employee_salary': 8746098.15, 'employee_age': 32}\n",
      "Sending event: {'employee_id': '87b5a275-f7ad-4f65-9236-696cb8866a82', 'employee_name': 'Belinda Estes', 'employee_salary': 6513063.12, 'employee_age': 60}\n",
      "Sending event: {'employee_id': '9b7fb85c-58f5-46a8-a54d-0879aef98f28', 'employee_name': 'Janice Ramirez DDS', 'employee_salary': 9978800.65, 'employee_age': 27}\n"
     ]
    },
    {
     "ename": "KeyboardInterrupt",
     "evalue": "",
     "output_type": "error",
     "traceback": [
      "\u001b[0;31m---------------------------------------------------------------------------\u001b[0m",
      "\u001b[0;31mKeyboardInterrupt\u001b[0m                         Traceback (most recent call last)",
      "Cell \u001b[0;32mIn[6], line 40\u001b[0m\n\u001b[1;32m     38\u001b[0m producer\u001b[38;5;241m.\u001b[39mproduce(topic\u001b[38;5;241m=\u001b[39mtopic, value\u001b[38;5;241m=\u001b[39mevent)\n\u001b[1;32m     39\u001b[0m producer\u001b[38;5;241m.\u001b[39mflush()\n\u001b[0;32m---> 40\u001b[0m \u001b[43mtime\u001b[49m\u001b[38;5;241;43m.\u001b[39;49m\u001b[43msleep\u001b[49m\u001b[43m(\u001b[49m\u001b[38;5;241;43m5\u001b[39;49m\u001b[43m)\u001b[49m\n",
      "\u001b[0;31mKeyboardInterrupt\u001b[0m: "
     ]
    }
   ],
   "source": [
    "# Schema Registry configuration\n",
    "schema_registry_conf = {'url': f'http://{schema_registry_host}:8081'}\n",
    "schema_registry_client = SchemaRegistryClient(schema_registry_conf)\n",
    "\n",
    "# Avro schema definition\n",
    "value_schema_str = \"\"\"\n",
    "{\n",
    "   \"type\": \"record\",\n",
    "   \"name\": \"data_employee\",\n",
    "   \"fields\" : [\n",
    "     {\"name\": \"employee_id\", \"type\": \"string\"},\n",
    "     {\"name\": \"employee_name\", \"type\": \"string\"},\n",
    "     {\"name\": \"employee_salary\", \"type\": \"float\"},\n",
    "     {\"name\": \"employee_age\", \"type\": \"int\"}\n",
    "   ]\n",
    "}\n",
    "\"\"\"\n",
    "value_schema = avro.loads(value_schema_str)\n",
    "\n",
    "producer_conf = {\n",
    "    'bootstrap.servers': bootstrap_servers,\n",
    "    'schema.registry.url': schema_registry_url\n",
    "}\n",
    "\n",
    "producer = AvroProducer(producer_conf, default_value_schema=value_schema)\n",
    "\n",
    "def generate_employee_data():\n",
    "    return {\n",
    "        \"employee_id\": fake.uuid4(),\n",
    "        \"employee_name\": fake.name(),\n",
    "        \"employee_salary\": round(random.uniform(1000000, 10000000),2),\n",
    "        \"employee_age\": random.randint(17, 70)\n",
    "    }\n",
    "\n",
    "while True:\n",
    "    event = generate_employee_data()\n",
    "    print(f\"Sending event: {event}\")\n",
    "    producer.produce(topic=topic, value=event)\n",
    "    producer.flush()\n",
    "    time.sleep(5)"
   ]
  },
  {
   "cell_type": "code",
   "execution_count": null,
   "id": "d1002cfd-035e-4c36-b728-d4caa647aeb2",
   "metadata": {},
   "outputs": [],
   "source": []
  },
  {
   "cell_type": "code",
   "execution_count": null,
   "id": "dda45e50-acfc-4fe9-b49b-5c0b1ceba320",
   "metadata": {},
   "outputs": [],
   "source": []
  },
  {
   "cell_type": "code",
   "execution_count": null,
   "id": "2f5b7fbf-66d6-495b-9f27-9c1fc0fd265a",
   "metadata": {},
   "outputs": [],
   "source": []
  }
 ],
 "metadata": {
  "kernelspec": {
   "display_name": "Python 3 (ipykernel)",
   "language": "python",
   "name": "python3"
  },
  "language_info": {
   "codemirror_mode": {
    "name": "ipython",
    "version": 3
   },
   "file_extension": ".py",
   "mimetype": "text/x-python",
   "name": "python",
   "nbconvert_exporter": "python",
   "pygments_lexer": "ipython3",
   "version": "3.10.10"
  }
 },
 "nbformat": 4,
 "nbformat_minor": 5
}
